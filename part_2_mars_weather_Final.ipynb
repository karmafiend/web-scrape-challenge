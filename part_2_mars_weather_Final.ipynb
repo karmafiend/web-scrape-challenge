{
 "cells": [
  {
   "cell_type": "markdown",
   "metadata": {},
   "source": [
    "# Module 12 Challenge\n",
    "## Deliverable 2: Scrape and Analyze Mars Weather Data"
   ]
  },
  {
   "cell_type": "code",
   "execution_count": 1,
   "metadata": {
    "tags": []
   },
   "outputs": [],
   "source": [
    "# Import relevant libraries\n",
    "from splinter import Browser\n",
    "from bs4 import BeautifulSoup\n",
    "import matplotlib.pyplot as plt\n",
    "import pandas as pd"
   ]
  },
  {
   "cell_type": "code",
   "execution_count": 2,
   "metadata": {
    "tags": []
   },
   "outputs": [],
   "source": [
    "browser = Browser('chrome')"
   ]
  },
  {
   "cell_type": "markdown",
   "metadata": {},
   "source": [
    "### Step 1: Visit the Website\n",
    "\n",
    "Use automated browsing to visit the [Mars Temperature Data Site](https://static.bc-edx.com/data/web/mars_facts/temperature.html). Inspect the page to identify which elements to scrape.\n",
    "\n",
    "   > **Hint** To identify which elements to scrape, you might want to inspect the page by using Chrome DevTools to discover whether the table contains usable classes.\n"
   ]
  },
  {
   "cell_type": "code",
   "execution_count": 3,
   "metadata": {
    "tags": []
   },
   "outputs": [],
   "source": [
    "# Visit the website\n",
    "# https://static.bc-edx.com/data/web/mars_facts/temperature.html\n",
    "url = \"https://static.bc-edx.com/data/web/mars_facts/temperature.html\"\n",
    "browser.visit(url)"
   ]
  },
  {
   "cell_type": "markdown",
   "metadata": {},
   "source": [
    "### Step 2: Scrape the Table\n",
    "\n",
    "Create a Beautiful Soup object and use it to scrape the data in the HTML table.\n",
    "\n",
    "Note that this can also be achieved by using the Pandas `read_html` function. However, use Beautiful Soup here to continue sharpening your web scraping skills."
   ]
  },
  {
   "cell_type": "code",
   "execution_count": 4,
   "metadata": {
    "tags": []
   },
   "outputs": [],
   "source": [
    "# Create a Beautiful Soup Object\n",
    "#Parse the HTML\n",
    "html = browser.html\n",
    "url = 'https://static.bc-edx.com/data/web/mars_facts/temperature.html'\n",
    "soup = BeautifulSoup(html, 'html.parser')"
   ]
  },
  {
   "cell_type": "code",
   "execution_count": 5,
   "metadata": {
    "tags": []
   },
   "outputs": [
    {
     "name": "stdout",
     "output_type": "stream",
     "text": [
      "Title Header: id\n",
      "Data Row: 2\n",
      "2012-08-16\n",
      "10\n",
      "155\n",
      "6\n",
      "-75.0\n",
      "739.0\n",
      "\n",
      "Title Header: terrestrial_date\n",
      "Data Row: 13\n",
      "2012-08-17\n",
      "11\n",
      "156\n",
      "6\n",
      "-76.0\n",
      "740.0\n",
      "\n",
      "Title Header: sol\n",
      "Data Row: 24\n",
      "2012-08-18\n",
      "12\n",
      "156\n",
      "6\n",
      "-76.0\n",
      "741.0\n",
      "\n",
      "Title Header: ls\n",
      "Data Row: 35\n",
      "2012-08-19\n",
      "13\n",
      "157\n",
      "6\n",
      "-74.0\n",
      "732.0\n",
      "\n",
      "Title Header: month\n",
      "Data Row: 46\n",
      "2012-08-20\n",
      "14\n",
      "157\n",
      "6\n",
      "-74.0\n",
      "740.0\n",
      "\n",
      "Title Header: min_temp\n",
      "Data Row: 57\n",
      "2012-08-21\n",
      "15\n",
      "158\n",
      "6\n",
      "-78.0\n",
      "740.0\n",
      "\n",
      "Title Header: pressure\n",
      "Data Row: 68\n",
      "2012-08-22\n",
      "16\n",
      "158\n",
      "6\n",
      "-77.0\n",
      "740.0\n",
      "\n"
     ]
    }
   ],
   "source": [
    "# Extract all rows of data\n",
    "#Find all title header elements 'th'\n",
    "title_headers = soup.find_all('th')\n",
    "\n",
    "#Find all elements with class 'article_teaser_body'\n",
    "data_rows = soup.find_all('tr', class_='data-row')\n",
    "\n",
    "#Print titles and previews for confirmation\n",
    "for title_headers, data_rows in zip(title_headers, data_rows):\n",
    "    print('Title Header:', title_headers.text.strip())\n",
    "    print('Data Row:', data_rows.text.strip())\n",
    "    print()"
   ]
  },
  {
   "cell_type": "markdown",
   "metadata": {},
   "source": [
    "### Step 3: Store the Data\n",
    "\n",
    "Assemble the scraped data into a Pandas DataFrame. The columns should have the same headings as the table on the website. Here’s an explanation of the column headings:\n",
    "\n",
    "* `id`: the identification number of a single transmission from the Curiosity rover\n",
    "* `terrestrial_date`: the date on Earth\n",
    "* `sol`: the number of elapsed sols (Martian days) since Curiosity landed on Mars\n",
    "* `ls`: the solar longitude\n",
    "* `month`: the Martian month\n",
    "* `min_temp`: the minimum temperature, in Celsius, of a single Martian day (sol)\n",
    "* `pressure`: The atmospheric pressure at Curiosity's location"
   ]
  },
  {
   "cell_type": "code",
   "execution_count": 6,
   "metadata": {
    "tags": []
   },
   "outputs": [
    {
     "name": "stdout",
     "output_type": "stream",
     "text": [
      "{'id': '2', 'terrestrial_date': '2012-08-16', 'sol': '10', 'ls': '155', 'month': '6', 'min_temp': '-75.0', 'pressure': '739.0'}\n",
      "{'id': '13', 'terrestrial_date': '2012-08-17', 'sol': '11', 'ls': '156', 'month': '6', 'min_temp': '-76.0', 'pressure': '740.0'}\n",
      "{'id': '24', 'terrestrial_date': '2012-08-18', 'sol': '12', 'ls': '156', 'month': '6', 'min_temp': '-76.0', 'pressure': '741.0'}\n",
      "{'id': '35', 'terrestrial_date': '2012-08-19', 'sol': '13', 'ls': '157', 'month': '6', 'min_temp': '-74.0', 'pressure': '732.0'}\n",
      "{'id': '46', 'terrestrial_date': '2012-08-20', 'sol': '14', 'ls': '157', 'month': '6', 'min_temp': '-74.0', 'pressure': '740.0'}\n"
     ]
    }
   ],
   "source": [
    "# Assuming you have BeautifulSoup objects: 'headers' for the column headers, 'rows' for the data rows\n",
    "title_headers = [title_header.text.strip() for title_header in soup.find_all('th')]  # Assuming 'th' tags for headers\n",
    "data_rows = soup.find_all('tr')[1:]  # Assuming the first 'tr' is headers, skip it\n",
    "# Create an empty list\n",
    "data_row_table = []\n",
    "# Loop through the scraped data to create a list of rows\n",
    "# Loop through the text elements\n",
    "# Extract the 'title header' and 'data rows' text from the elements\n",
    "# Store each title and preview pair in a dictionary\n",
    "# Add the dictionary to the list\n",
    "for row in data_rows:\n",
    "    cells = row.find_all('td')  # Assuming 'td' tags for data cells\n",
    "    if len(cells) == len(title_headers):  # Check to make sure each row has the correct number of cells\n",
    "        # Create a dictionary with headers as keys and cell data as values\n",
    "        row_dict = {title_headers[i]: cell.text.strip() for i, cell in enumerate(cells)}\n",
    "        # Add the dictionary to the list\n",
    "        data_row_table.append(row_dict)\n",
    "for row in data_row_table[:5]:  # Print first 5 rows to check\n",
    "    print(row)"
   ]
  },
  {
   "cell_type": "code",
   "execution_count": 7,
   "metadata": {
    "tags": []
   },
   "outputs": [],
   "source": [
    "# Create a Pandas DataFrame by using the list of rows and a list of the column names\n",
    "df = pd.DataFrame(data_row_table)"
   ]
  },
  {
   "cell_type": "code",
   "execution_count": 8,
   "metadata": {
    "tags": []
   },
   "outputs": [
    {
     "data": {
      "text/html": [
       "<div>\n",
       "<style scoped>\n",
       "    .dataframe tbody tr th:only-of-type {\n",
       "        vertical-align: middle;\n",
       "    }\n",
       "\n",
       "    .dataframe tbody tr th {\n",
       "        vertical-align: top;\n",
       "    }\n",
       "\n",
       "    .dataframe thead th {\n",
       "        text-align: right;\n",
       "    }\n",
       "</style>\n",
       "<table border=\"1\" class=\"dataframe\">\n",
       "  <thead>\n",
       "    <tr style=\"text-align: right;\">\n",
       "      <th></th>\n",
       "      <th>id</th>\n",
       "      <th>terrestrial_date</th>\n",
       "      <th>sol</th>\n",
       "      <th>ls</th>\n",
       "      <th>month</th>\n",
       "      <th>min_temp</th>\n",
       "      <th>pressure</th>\n",
       "    </tr>\n",
       "  </thead>\n",
       "  <tbody>\n",
       "    <tr>\n",
       "      <th>0</th>\n",
       "      <td>2</td>\n",
       "      <td>2012-08-16</td>\n",
       "      <td>10</td>\n",
       "      <td>155</td>\n",
       "      <td>6</td>\n",
       "      <td>-75.0</td>\n",
       "      <td>739.0</td>\n",
       "    </tr>\n",
       "    <tr>\n",
       "      <th>1</th>\n",
       "      <td>13</td>\n",
       "      <td>2012-08-17</td>\n",
       "      <td>11</td>\n",
       "      <td>156</td>\n",
       "      <td>6</td>\n",
       "      <td>-76.0</td>\n",
       "      <td>740.0</td>\n",
       "    </tr>\n",
       "    <tr>\n",
       "      <th>2</th>\n",
       "      <td>24</td>\n",
       "      <td>2012-08-18</td>\n",
       "      <td>12</td>\n",
       "      <td>156</td>\n",
       "      <td>6</td>\n",
       "      <td>-76.0</td>\n",
       "      <td>741.0</td>\n",
       "    </tr>\n",
       "    <tr>\n",
       "      <th>3</th>\n",
       "      <td>35</td>\n",
       "      <td>2012-08-19</td>\n",
       "      <td>13</td>\n",
       "      <td>157</td>\n",
       "      <td>6</td>\n",
       "      <td>-74.0</td>\n",
       "      <td>732.0</td>\n",
       "    </tr>\n",
       "    <tr>\n",
       "      <th>4</th>\n",
       "      <td>46</td>\n",
       "      <td>2012-08-20</td>\n",
       "      <td>14</td>\n",
       "      <td>157</td>\n",
       "      <td>6</td>\n",
       "      <td>-74.0</td>\n",
       "      <td>740.0</td>\n",
       "    </tr>\n",
       "  </tbody>\n",
       "</table>\n",
       "</div>"
      ],
      "text/plain": [
       "   id terrestrial_date sol   ls month min_temp pressure\n",
       "0   2       2012-08-16  10  155     6    -75.0    739.0\n",
       "1  13       2012-08-17  11  156     6    -76.0    740.0\n",
       "2  24       2012-08-18  12  156     6    -76.0    741.0\n",
       "3  35       2012-08-19  13  157     6    -74.0    732.0\n",
       "4  46       2012-08-20  14  157     6    -74.0    740.0"
      ]
     },
     "execution_count": 8,
     "metadata": {},
     "output_type": "execute_result"
    }
   ],
   "source": [
    "# Confirm DataFrame was created successfully\n",
    "df.head()"
   ]
  },
  {
   "cell_type": "markdown",
   "metadata": {},
   "source": [
    "### Step 4: Prepare Data for Analysis\n",
    "\n",
    "Examine the data types that are currently associated with each column. If necessary, cast (or convert) the data to the appropriate `datetime`, `int`, or `float` data types.\n",
    "\n",
    "  > **Hint** You can use the Pandas `astype` and `to_datetime` methods to accomplish this task.\n"
   ]
  },
  {
   "cell_type": "code",
   "execution_count": 9,
   "metadata": {
    "tags": []
   },
   "outputs": [
    {
     "name": "stdout",
     "output_type": "stream",
     "text": [
      "id                  object\n",
      "terrestrial_date    object\n",
      "sol                 object\n",
      "ls                  object\n",
      "month               object\n",
      "min_temp            object\n",
      "pressure            object\n",
      "dtype: object\n"
     ]
    }
   ],
   "source": [
    "# Examine data type of each column\n",
    "print(df.dtypes)"
   ]
  },
  {
   "cell_type": "code",
   "execution_count": 10,
   "metadata": {
    "tags": []
   },
   "outputs": [],
   "source": [
    "# Change data types for data analysis\n",
    "# Convert 'terrestrial_date' from object to datetime\n",
    "df['terrestrial_date'] = pd.to_datetime(df['terrestrial_date'])\n",
    "\n",
    "# Convert 'sol', 'ls', and 'month' to int64\n",
    "df['sol'] = df['sol'].astype('int64')\n",
    "df['ls'] = df['ls'].astype('int64')\n",
    "df['month'] = df['month'].astype('int64')\n",
    "\n",
    "# Convert 'min_temp' and 'pressure' to float64\n",
    "df['min_temp'] = df['min_temp'].astype('float64')\n",
    "df['pressure'] = df['pressure'].astype('float64')"
   ]
  },
  {
   "cell_type": "code",
   "execution_count": 11,
   "metadata": {
    "tags": []
   },
   "outputs": [
    {
     "name": "stdout",
     "output_type": "stream",
     "text": [
      "id                          object\n",
      "terrestrial_date    datetime64[ns]\n",
      "sol                          int64\n",
      "ls                           int64\n",
      "month                        int64\n",
      "min_temp                   float64\n",
      "pressure                   float64\n",
      "dtype: object\n"
     ]
    }
   ],
   "source": [
    "# Confirm type changes were successful by examining data types again\n",
    "print(df.dtypes)"
   ]
  },
  {
   "cell_type": "markdown",
   "metadata": {},
   "source": [
    "### Step 5: Analyze the Data\n",
    "\n",
    "Analyze your dataset by using Pandas functions to answer the following questions:\n",
    "\n",
    "1. How many months exist on Mars?\n",
    "2. How many Martian (and not Earth) days worth of data exist in the scraped dataset?\n",
    "3. What are the coldest and the warmest months on Mars (at the location of Curiosity)? To answer this question:\n",
    "    * Find the average the minimum daily temperature for all of the months.\n",
    "    * Plot the results as a bar chart.\n",
    "4. Which months have the lowest and the highest atmospheric pressure on Mars? To answer this question:\n",
    "    * Find the average the daily atmospheric pressure of all the months.\n",
    "    * Plot the results as a bar chart.\n",
    "5. About how many terrestrial (Earth) days exist in a Martian year? To answer this question:\n",
    "    * Consider how many days elapse on Earth in the time that Mars circles the Sun once.\n",
    "    * Visually estimate the result by plotting the daily minimum temperature.\n"
   ]
  },
  {
   "cell_type": "code",
   "execution_count": 12,
   "metadata": {
    "tags": []
   },
   "outputs": [
    {
     "name": "stdout",
     "output_type": "stream",
     "text": [
      "month\n",
      "1     174\n",
      "2     178\n",
      "3     192\n",
      "4     194\n",
      "5     149\n",
      "6     147\n",
      "7     142\n",
      "8     141\n",
      "9     134\n",
      "10    112\n",
      "11    138\n",
      "12    166\n",
      "Name: count, dtype: int64\n"
     ]
    }
   ],
   "source": [
    "# 1. How many months are there on Mars?\n",
    "month_counts = df['month'].value_counts().sort_index()\n",
    "print(month_counts)"
   ]
  },
  {
   "cell_type": "code",
   "execution_count": 13,
   "metadata": {
    "tags": []
   },
   "outputs": [
    {
     "name": "stdout",
     "output_type": "stream",
     "text": [
      "Number of Martian days' worth of data: 1867\n"
     ]
    }
   ],
   "source": [
    "# 2. How many Martian days' worth of data are there?\n",
    "number_of_martian_days = len(df)\n",
    "print(\"Number of Martian days' worth of data:\", number_of_martian_days)\n"
   ]
  },
  {
   "cell_type": "code",
   "execution_count": 14,
   "metadata": {
    "tags": []
   },
   "outputs": [
    {
     "data": {
      "text/plain": [
       "month\n",
       "1    -77.160920\n",
       "2    -79.932584\n",
       "3    -83.307292\n",
       "4    -82.747423\n",
       "5    -79.308725\n",
       "6    -75.299320\n",
       "7    -72.281690\n",
       "8    -68.382979\n",
       "9    -69.171642\n",
       "10   -71.982143\n",
       "11   -71.985507\n",
       "12   -74.451807\n",
       "Name: min_temp, dtype: float64"
      ]
     },
     "execution_count": 14,
     "metadata": {},
     "output_type": "execute_result"
    }
   ],
   "source": [
    "# 3. What is the average low temperature by month?\n",
    "#df[\"min_temp\"].groupby(\"month\").mean()\n",
    "average_min_temp_by_month = df.groupby('month')['min_temp'].mean()\n",
    "average_min_temp_by_month"
   ]
  },
  {
   "cell_type": "code",
   "execution_count": 15,
   "metadata": {
    "tags": []
   },
   "outputs": [
    {
     "name": "stdout",
     "output_type": "stream",
     "text": [
      "Initial data types:\n",
      "id                          object\n",
      "terrestrial_date    datetime64[ns]\n",
      "sol                          int64\n",
      "ls                           int64\n",
      "month                        int64\n",
      "min_temp                   float64\n",
      "pressure                   float64\n",
      "dtype: object\n",
      "\n",
      "Data types after cleaning:\n",
      "id                          object\n",
      "terrestrial_date    datetime64[ns]\n",
      "sol                          int64\n",
      "ls                           int64\n",
      "month                         int8\n",
      "min_temp                   float64\n",
      "pressure                   float64\n",
      "dtype: object\n",
      "\n",
      "Data types in temp_data:\n",
      "month              int8\n",
      "avg_min_temp    float64\n",
      "dtype: object\n"
     ]
    },
    {
     "data": {
      "image/png": "[encoded data removed]",
      "text/plain": [
       "<Figure size 1000x600 with 1 Axes>"
      ]
     },
     "metadata": {},
     "output_type": "display_data"
    }
   ],
   "source": [
    "# Plot the average temperature by month\n",
    "# Check initial data types\n",
    "print(\"Initial data types:\")\n",
    "print(df.dtypes)\n",
    "\n",
    "# Drop any rows where 'min_temp' might be NaN or non-numeric (if applicable)\n",
    "df = df.dropna(subset=['min_temp'])\n",
    "df['min_temp'] = pd.to_numeric(df['min_temp'], errors='coerce')  # Convert to float, make errors NaN\n",
    "df['month'] = pd.to_numeric(df['month'], errors='coerce', downcast='integer')  # Convert to int, make errors NaN\n",
    "\n",
    "# Verify the data again\n",
    "print(\"\\nData types after cleaning:\")\n",
    "print(df.dtypes)\n",
    "\n",
    "# Calculate the average temperature by month\n",
    "average_temp_by_month = df.groupby('month')['min_temp'].mean()\n",
    "\n",
    "# Convert the Series returned by groupby into a DataFrame for plotting\n",
    "temp_data = average_temp_by_month.reset_index()\n",
    "temp_data.columns = ['month', 'avg_min_temp']  # Renaming columns for clarity\n",
    "\n",
    "# Check data types again after grouping and resetting index\n",
    "print(\"\\nData types in temp_data:\")\n",
    "print(temp_data.dtypes)\n",
    "\n",
    "# Explicitly converting data types, ensuring they're correct for plotting\n",
    "temp_data['month'] = temp_data['month'].astype(int)\n",
    "temp_data['avg_min_temp'] = temp_data['avg_min_temp'].astype(float)\n",
    "\n",
    "# Build bar chart for month vs. average min_temp\n",
    "plt.figure(figsize=(10, 6))\n",
    "plt.bar(temp_data['month'], temp_data['avg_min_temp'], edgecolor='black')\n",
    "\n",
    "# Set the y-axis to start from 0 and adjust limits appropriately\n",
    "plt.ylim([0, min(temp_data['avg_min_temp']) - 5])  # Ensure the range includes only negative values\n",
    "\n",
    "# Invert the y-axis so 0 starts at the top\n",
    "plt.gca().invert_yaxis()\n",
    "\n",
    "plt.xlabel('Month')\n",
    "plt.ylabel('Average Temperature (°C)')\n",
    "plt.title(\"Monthly Average Temperature on Mars\")\n",
    "\n",
    "# Show plot\n",
    "plt.show()\n"
   ]
  },
  {
   "cell_type": "code",
   "execution_count": 16,
   "metadata": {
    "tags": []
   },
   "outputs": [
    {
     "name": "stdout",
     "output_type": "stream",
     "text": [
      "id                          object\n",
      "terrestrial_date    datetime64[ns]\n",
      "sol                          int64\n",
      "ls                           int64\n",
      "month                         int8\n",
      "min_temp                   float64\n",
      "pressure                   float64\n",
      "dtype: object\n"
     ]
    }
   ],
   "source": [
    "print(df.dtypes)"
   ]
  },
  {
   "cell_type": "code",
   "execution_count": 17,
   "metadata": {
    "tags": []
   },
   "outputs": [
    {
     "data": {
      "image/png": "[encoded data removed]",
      "text/plain": [
       "<Figure size 1000x600 with 1 Axes>"
      ]
     },
     "metadata": {},
     "output_type": "display_data"
    },
    {
     "name": "stdout",
     "output_type": "stream",
     "text": [
      "Hottest Month: 8 with an average temperature of -68.38°C\n",
      "Coldest Month: 3 with an average temperature of -83.31°C\n"
     ]
    }
   ],
   "source": [
    "# Identify the coldest and hottest months in Curiosity's location\n",
    "# Convert data types if needed and handle NaNs\n",
    "df['min_temp'] = pd.to_numeric(df['min_temp'], errors='coerce')\n",
    "df['pressure'] = pd.to_numeric(df['pressure'], errors='coerce')\n",
    "df.dropna(inplace=True)  # Dropping NaNs if conversion introduced any\n",
    "\n",
    "# Calculate the average temperature by month\n",
    "average_temp = df.groupby('month')['min_temp'].mean()\n",
    "\n",
    "# Find the hottest and coldest months\n",
    "hottest_month = average_temp.idxmax()\n",
    "coldest_month = average_temp.idxmin()\n",
    "\n",
    "# Prepare data for plotting\n",
    "plot_data = pd.DataFrame({\n",
    "    'Month': average_temp.index,\n",
    "    'Average Temp (°C)': average_temp.values\n",
    "})\n",
    "\n",
    "# Plotting only temperature data\n",
    "plt.figure(figsize=(10, 6))\n",
    "plt.bar(plot_data['Month'], plot_data['Average Temp (°C)'], color='tab:blue')\n",
    "plt.xlabel('Month')\n",
    "plt.ylabel('Average Temperature (°C)')\n",
    "plt.title('Monthly Average Temperature on Mars')\n",
    "plt.show()\n",
    "\n",
    "# Print the hottest and coldest months\n",
    "print(f\"Hottest Month: {hottest_month} with an average temperature of {average_temp[hottest_month]:.2f}°C\")\n",
    "print(f\"Coldest Month: {coldest_month} with an average temperature of {average_temp[coldest_month]:.2f}°C\")\n",
    "\n"
   ]
  },
  {
   "cell_type": "code",
   "execution_count": 21,
   "metadata": {
    "tags": []
   },
   "outputs": [
    {
     "data": {
      "text/plain": [
       "month\n",
       "1     862.488506\n",
       "2     889.455056\n",
       "3     877.322917\n",
       "4     806.329897\n",
       "5     748.557047\n",
       "6     745.054422\n",
       "7     795.105634\n",
       "8     873.829787\n",
       "9     913.305970\n",
       "10    887.312500\n",
       "11    857.014493\n",
       "12    842.156627\n",
       "Name: pressure, dtype: float64"
      ]
     },
     "execution_count": 21,
     "metadata": {},
     "output_type": "execute_result"
    }
   ],
   "source": [
    "# 4. Average pressure by Martian month\n",
    "# Check initial data types\n",
    "#print(\"Initial data types:\")\n",
    "#print(df.dtypes)\n",
    "\n",
    "# Calculate the average temperature by month\n",
    "average_pressure = df.groupby('month')['pressure'].mean()\n",
    "\n",
    "average_pressure"
   ]
  },
  {
   "cell_type": "code",
   "execution_count": 43,
   "metadata": {
    "tags": []
   },
   "outputs": [
    {
     "data": {
      "image/png": "[encoded data removed]",
      "text/plain": [
       "<Figure size 1000x600 with 1 Axes>"
      ]
     },
     "metadata": {},
     "output_type": "display_data"
    }
   ],
   "source": [
    "# Plot the average pressure by month\n",
    "#Convert the Series to a DataFrame for plotting\n",
    "average_pressure_df = average_pressure.reset_index()\n",
    "average_pressure_df.columns = ['month', 'average_pressure']\n",
    "\n",
    "#Sort the DataFrame by 'average_pressure' in ascending order\n",
    "average_pressure_df = average_pressure_df.sort_values(by='average_pressure')\n",
    "\n",
    "#Assuming average_pressure_df is already sorted and prepared for plotting\n",
    "plt.figure(figsize=(10, 6))\n",
    "\n",
    "#Plot the bar chart using a range index for alignment\n",
    "bars = plt.bar(range(len(average_pressure_df)), average_pressure_df['average_pressure'], color='tab:blue')\n",
    "\n",
    "#Set x-ticks: Use range index for ticks and sorted month values for labels\n",
    "plt.xticks(ticks=range(len(average_pressure_df['month'])), labels=average_pressure_df['month'], rotation=90)\n",
    "\n",
    "#Ensure y-axis limits start from a realistic minimum (slightly below the lowest pressure to ensure visibility)\n",
    "plt.ylim(0, average_pressure_df['average_pressure'].max() + 10)\n",
    "\n",
    "plt.xlabel('month')\n",
    "plt.ylabel('Atmospheric Pressure')\n",
    "\n",
    "plt.show()"
   ]
  },
  {
   "cell_type": "code",
   "execution_count": 53,
   "metadata": {
    "tags": []
   },
   "outputs": [
    {
     "data": {
      "image/png": "[encoded data removed]",
      "text/plain": [
       "<Figure size 1200x600 with 1 Axes>"
      ]
     },
     "metadata": {},
     "output_type": "display_data"
    }
   ],
   "source": [
    "# 5. How many terrestrial (earth) days are there in a Martian year?\n",
    "df['terrestrial_days'] = range(1, len(df) + 1)  # Creating a terrestrial days column from 1 to number of rows\n",
    "\n",
    "# Plotting\n",
    "plt.figure(figsize=(12, 6))  # Set the figure size for better visibility\n",
    "plt.plot(df['terrestrial_days'], df['min_temp'], label='Minimum Temperature')\n",
    "\n",
    "# Adding labels and title\n",
    "plt.xlabel('Number of terrestrial days')\n",
    "plt.ylabel('Minimum temperature')\n",
    "\n",
    "max_days = df['terrestrial_days'].max()\n",
    "tick_values = range(0, max_days + 1, 250) \n",
    "plt.xticks(ticks=tick_values)\n",
    "\n",
    "plt.show()\n"
   ]
  },
  {
   "cell_type": "markdown",
   "metadata": {},
   "source": [
    "On average, the third month has the coldest minimum temperature on Mars at -83.31 degrees Celsius (or -117.95 degrees Fahrenheit), and the eighth month is the warmest at -68.38° celsius (or -91.08 Fahrenheit. But it is always very cold there in human terms!\n",
    "\n"
   ]
  },
  {
   "cell_type": "markdown",
   "metadata": {},
   "source": [
    "Atmospheric pressure is, on average, lowest in the sixth month and highest in the ninth."
   ]
  },
  {
   "cell_type": "markdown",
   "metadata": {},
   "source": [
    "The distance from peak to peak is roughly 1425-750, or 675 days. A year on Mars appears to be about 675 days from the plot. Internet search confirms that a Mars year is equivalent to 687 earth days."
   ]
  },
  {
   "cell_type": "markdown",
   "metadata": {},
   "source": [
    "### Step 6: Save the Data\n",
    "\n",
    "Export the DataFrame to a CSV file."
   ]
  },
  {
   "cell_type": "code",
   "execution_count": 55,
   "metadata": {
    "tags": []
   },
   "outputs": [],
   "source": [
    "# Write the data to a CSV\n",
    "df.to_csv('mars_data_output.csv')"
   ]
  },
  {
   "cell_type": "code",
   "execution_count": 56,
   "metadata": {
    "tags": []
   },
   "outputs": [],
   "source": [
    "browser.quit()"
   ]
  },
  {
   "cell_type": "code",
   "execution_count": null,
   "metadata": {},
   "outputs": [],
   "source": []
  }
 ],
 "metadata": {
  "kernelspec": {
   "display_name": "Python 3 (ipykernel)",
   "language": "python",
   "name": "python3"
  },
  "language_info": {
   "codemirror_mode": {
    "name": "ipython",
    "version": 3
   },
   "file_extension": ".py",
   "mimetype": "text/x-python",
   "name": "python",
   "nbconvert_exporter": "python",
   "pygments_lexer": "ipython3",
   "version": "3.10.13"
  },
  "vscode": {
   "interpreter": {
    "hash": "31f2aee4e71d21fbe5cf8b01ff0e069b9275f58929596ceb00d14d90e3e16cd6"
   }
  }
 },
 "nbformat": 4,
 "nbformat_minor": 4
}
